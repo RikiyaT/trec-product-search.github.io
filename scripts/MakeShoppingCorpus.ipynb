{
 "cells": [
  {
   "cell_type": "code",
   "execution_count": 4,
   "id": "3ad26173",
   "metadata": {},
   "outputs": [
    {
     "ename": "IndexError",
     "evalue": "list index out of range",
     "output_type": "error",
     "traceback": [
      "\u001b[0;31m---------------------------------------------------------------------------\u001b[0m",
      "\u001b[0;31mIndexError\u001b[0m                                Traceback (most recent call last)",
      "Input \u001b[0;32mIn [4]\u001b[0m, in \u001b[0;36m<cell line: 4>\u001b[0;34m()\u001b[0m\n\u001b[1;32m      8\u001b[0m title \u001b[38;5;241m=\u001b[39m l[\u001b[38;5;241m1\u001b[39m]\n\u001b[1;32m      9\u001b[0m text \u001b[38;5;241m=\u001b[39m \u001b[38;5;124m'\u001b[39m\u001b[38;5;124m,\u001b[39m\u001b[38;5;124m'\u001b[39m\u001b[38;5;241m.\u001b[39mjoin(l[\u001b[38;5;241m2\u001b[39m:\u001b[38;5;241m-\u001b[39m\u001b[38;5;241m4\u001b[39m])\n\u001b[0;32m---> 10\u001b[0m bullet_points \u001b[38;5;241m=\u001b[39m \u001b[43ml\u001b[49m\u001b[43m[\u001b[49m\u001b[38;5;241;43m-\u001b[39;49m\u001b[38;5;241;43m4\u001b[39;49m\u001b[43m]\u001b[49m\n\u001b[1;32m     11\u001b[0m product_brand \u001b[38;5;241m=\u001b[39m l[\u001b[38;5;241m-\u001b[39m\u001b[38;5;241m3\u001b[39m]\n\u001b[1;32m     12\u001b[0m product_color \u001b[38;5;241m=\u001b[39m l[\u001b[38;5;241m-\u001b[39m\u001b[38;5;241m2\u001b[39m]\n",
      "\u001b[0;31mIndexError\u001b[0m: list index out of range"
     ]
    }
   ],
   "source": [
    "import json\n",
    "filename = 'product_catalogue-v0.2.csv'\n",
    "collection = {}\n",
    "with open(filename,'r') as f:\n",
    "    data = f.readlines()\n",
    "    for l in f:\n",
    "        l = l.strip().split(',') \n",
    "        docid = l[0]\n",
    "        title = l[1]\n",
    "        text = ','.join(l[2:-4])\n",
    "        bullet_points = l[-4]\n",
    "        product_brand = l[-3]\n",
    "        product_color = l[-2]\n",
    "        product_locale = l[-1]\n",
    "        collection[docid] = {'docid':docid, 'title': title, 'text': text, 'bullet_points':bullet_points, ',brand':product_brand, 'color': product_color, 'locale': product_locale}"
   ]
  },
  {
   "cell_type": "code",
   "execution_count": 7,
   "id": "9d73591e",
   "metadata": {},
   "outputs": [],
   "source": [
    "import json\n",
    "filename = 'product_catalogue-v0.2.csv'\n",
    "collection = {}\n",
    "with open(filename,'r') as f:\n",
    "    data = f.readlines()"
   ]
  },
  {
   "cell_type": "code",
   "execution_count": 11,
   "id": "6e690d67",
   "metadata": {},
   "outputs": [],
   "source": [
    "other_data = ''.join(data)"
   ]
  },
  {
   "cell_type": "code",
   "execution_count": 12,
   "id": "4d8c8533",
   "metadata": {},
   "outputs": [],
   "source": [
    "other_data"
   ]
  },
  {
   "cell_type": "code",
   "execution_count": null,
   "id": "10b5e3ec",
   "metadata": {},
   "outputs": [],
   "source": [
    "import json\n",
    "import random\n",
    "filename = 'train-v0.2.csv'\n",
    "rels = {}\n",
    "outfile = ''\n",
    "with open(filename,'r') as f:\n",
    "    f.readline()\n",
    "    for l in f:\n",
    "        l = l.strip().split(',') \n",
    "        query_id = l[0]\n",
    "        query = ','.join(l[1:-3])\n",
    "        locale = l[-3]\n",
    "        doc_id = l[-2]\n",
    "        label = l[-1]\n",
    "        if query_id not in rels:\n",
    "            rels[query_id] = {'query_id':query_id, 'query': query, 'locale':locale,'qrel':{'complement':[], 'exact':[], 'substitute':[], 'irrelevant':[]}}\n",
    "        rels[query_id]['qrel'][label].append(doc_id)"
   ]
  },
  {
   "cell_type": "code",
   "execution_count": null,
   "id": "d4db5113",
   "metadata": {},
   "outputs": [],
   "source": []
  },
  {
   "cell_type": "code",
   "execution_count": 3,
   "id": "f121cf2e",
   "metadata": {},
   "outputs": [],
   "source": [
    "query_ids = list(rels.keys())\n",
    "random.shuffle(query_ids)\n",
    "num_train_queries = int(0.8 * len(query_ids))\n",
    "train_query_ids = query_ids[:num_train_queries]\n",
    "devtest = query_ids[num_train_queries:]"
   ]
  },
  {
   "cell_type": "code",
   "execution_count": null,
   "id": "86dcf0f8",
   "metadata": {},
   "outputs": [],
   "source": []
  }
 ],
 "metadata": {
  "kernelspec": {
   "display_name": "base",
   "language": "python",
   "name": "base"
  },
  "language_info": {
   "codemirror_mode": {
    "name": "ipython",
    "version": 3
   },
   "file_extension": ".py",
   "mimetype": "text/x-python",
   "name": "python",
   "nbconvert_exporter": "python",
   "pygments_lexer": "ipython3",
   "version": "3.9.12"
  }
 },
 "nbformat": 4,
 "nbformat_minor": 5
}
